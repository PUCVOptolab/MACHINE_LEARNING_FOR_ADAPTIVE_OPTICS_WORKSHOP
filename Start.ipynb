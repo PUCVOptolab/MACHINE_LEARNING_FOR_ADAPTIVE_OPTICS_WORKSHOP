{
 "cells": [
  {
   "cell_type": "code",
   "execution_count": 2,
   "id": "63069030",
   "metadata": {},
   "outputs": [
    {
     "name": "stdout",
     "output_type": "stream",
     "text": [
      "fatal: could not create leading directories of '/content/MACHINE_LEARNING_FOR_ADAPTIVE_OPTICS_WORKSHOP': Permission denied\n",
      "[Errno 2] No such file or directory: '/content/MACHINE_LEARNING_FOR_ADAPTIVE_OPTICS_WORKSHOP'\n",
      "/data2/bgonzalez/desktop/MACHINE_LEARNING_FOR_ADAPTIVE_OPTICS_WORKSHOP\n",
      "Repo listo en: /content/MACHINE_LEARNING_FOR_ADAPTIVE_OPTICS_WORKSHOP\n",
      "1d1a542\n"
     ]
    }
   ],
   "source": [
    "# === Setup del repo (ejecutar SIEMPRE primero) ===\n",
    "REPO_URL = \"https://github.com/PUCVOptolab/MACHINE_LEARNING_FOR_ADAPTIVE_OPTICS_WORKSHOP.git\"\n",
    "BRANCH   = \"main\"\n",
    "WORKDIR  = \"/content/MACHINE_LEARNING_FOR_ADAPTIVE_OPTICS_WORKSHOP\"\n",
    "\n",
    "import os, sys\n",
    "\n",
    "# 1) Clonar o actualizar\n",
    "if not os.path.exists(WORKDIR):\n",
    "    !git clone -b $BRANCH $REPO_URL $WORKDIR\n",
    "else:\n",
    "    %cd $WORKDIR\n",
    "    !git fetch origin $BRANCH\n",
    "    !git checkout $BRANCH\n",
    "    !git reset --hard origin/$BRANCH\n",
    "%cd $WORKDIR\n",
    "\n",
    "# # 2) (Opcional) Soporte Git LFS si lo usas\n",
    "# !git lfs install >/dev/null 2>&1 || true\n",
    "# !git lfs pull || true\n",
    "\n",
    "# # 3) Instalar dependencias si existen\n",
    "# if os.path.exists(\"requirements_colab.txt\"):\n",
    "#     !pip install -q -r requirements_colab.txt\n",
    "# elif os.path.exists(\"requirements.txt\"):\n",
    "#     !pip install -q -r requirements.txt\n",
    "\n",
    "# # 4) (Opcional) Importar módulos del repo con \"import ...\"\n",
    "# if WORKDIR not in sys.path:\n",
    "#     sys.path.append(WORKDIR)\n",
    "\n",
    "print(\"Repo listo en:\", WORKDIR)\n",
    "!git rev-parse --short HEAD\n"
   ]
  }
 ],
 "metadata": {
  "kernelspec": {
   "display_name": "nn",
   "language": "python",
   "name": "python3"
  },
  "language_info": {
   "codemirror_mode": {
    "name": "ipython",
    "version": 3
   },
   "file_extension": ".py",
   "mimetype": "text/x-python",
   "name": "python",
   "nbconvert_exporter": "python",
   "pygments_lexer": "ipython3",
   "version": "3.10.18"
  }
 },
 "nbformat": 4,
 "nbformat_minor": 5
}
